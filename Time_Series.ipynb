{
  "nbformat": 4,
  "nbformat_minor": 0,
  "metadata": {
    "colab": {
      "name": "Time-Series.ipynb",
      "provenance": []
    },
    "kernelspec": {
      "name": "python3",
      "display_name": "Python 3"
    },
    "language_info": {
      "name": "python"
    }
  },
  "cells": [
    {
      "cell_type": "markdown",
      "metadata": {
        "id": "ZxA0POtBvoqZ"
      },
      "source": [
        "Steven Jonathan"
      ]
    },
    {
      "cell_type": "code",
      "metadata": {
        "id": "nK00bxPavuCa"
      },
      "source": [
        "import numpy as np\n",
        "import pandas as pd\n",
        "\n",
        "import matplotlib.pyplot as plt\n",
        "import tensorflow as tf\n",
        "from tensorflow.keras.layers import LSTM,Dense,Bidirectional,Dropout"
      ],
      "execution_count": 73,
      "outputs": []
    },
    {
      "cell_type": "code",
      "metadata": {
        "id": "XuSoyo-9vE4F"
      },
      "source": [
        "df_Test = pd.read_csv('/content/DailyDelhiClimateTest.csv')\n",
        "df_Train = pd.read_csv('/content/DailyDelhiClimateTrain.csv')"
      ],
      "execution_count": 74,
      "outputs": []
    },
    {
      "cell_type": "code",
      "metadata": {
        "colab": {
          "base_uri": "https://localhost:8080/",
          "height": 204
        },
        "id": "PwtoNg1qvwAe",
        "outputId": "c6b151cc-10f6-42d5-a583-fc78ddd617ab"
      },
      "source": [
        "df_Train.head()"
      ],
      "execution_count": 75,
      "outputs": [
        {
          "output_type": "execute_result",
          "data": {
            "text/html": [
              "<div>\n",
              "<style scoped>\n",
              "    .dataframe tbody tr th:only-of-type {\n",
              "        vertical-align: middle;\n",
              "    }\n",
              "\n",
              "    .dataframe tbody tr th {\n",
              "        vertical-align: top;\n",
              "    }\n",
              "\n",
              "    .dataframe thead th {\n",
              "        text-align: right;\n",
              "    }\n",
              "</style>\n",
              "<table border=\"1\" class=\"dataframe\">\n",
              "  <thead>\n",
              "    <tr style=\"text-align: right;\">\n",
              "      <th></th>\n",
              "      <th>date</th>\n",
              "      <th>meantemp</th>\n",
              "      <th>humidity</th>\n",
              "      <th>wind_speed</th>\n",
              "      <th>meanpressure</th>\n",
              "    </tr>\n",
              "  </thead>\n",
              "  <tbody>\n",
              "    <tr>\n",
              "      <th>0</th>\n",
              "      <td>2013-01-01</td>\n",
              "      <td>10.000000</td>\n",
              "      <td>84.500000</td>\n",
              "      <td>0.000000</td>\n",
              "      <td>1015.666667</td>\n",
              "    </tr>\n",
              "    <tr>\n",
              "      <th>1</th>\n",
              "      <td>2013-01-02</td>\n",
              "      <td>7.400000</td>\n",
              "      <td>92.000000</td>\n",
              "      <td>2.980000</td>\n",
              "      <td>1017.800000</td>\n",
              "    </tr>\n",
              "    <tr>\n",
              "      <th>2</th>\n",
              "      <td>2013-01-03</td>\n",
              "      <td>7.166667</td>\n",
              "      <td>87.000000</td>\n",
              "      <td>4.633333</td>\n",
              "      <td>1018.666667</td>\n",
              "    </tr>\n",
              "    <tr>\n",
              "      <th>3</th>\n",
              "      <td>2013-01-04</td>\n",
              "      <td>8.666667</td>\n",
              "      <td>71.333333</td>\n",
              "      <td>1.233333</td>\n",
              "      <td>1017.166667</td>\n",
              "    </tr>\n",
              "    <tr>\n",
              "      <th>4</th>\n",
              "      <td>2013-01-05</td>\n",
              "      <td>6.000000</td>\n",
              "      <td>86.833333</td>\n",
              "      <td>3.700000</td>\n",
              "      <td>1016.500000</td>\n",
              "    </tr>\n",
              "  </tbody>\n",
              "</table>\n",
              "</div>"
            ],
            "text/plain": [
              "         date   meantemp   humidity  wind_speed  meanpressure\n",
              "0  2013-01-01  10.000000  84.500000    0.000000   1015.666667\n",
              "1  2013-01-02   7.400000  92.000000    2.980000   1017.800000\n",
              "2  2013-01-03   7.166667  87.000000    4.633333   1018.666667\n",
              "3  2013-01-04   8.666667  71.333333    1.233333   1017.166667\n",
              "4  2013-01-05   6.000000  86.833333    3.700000   1016.500000"
            ]
          },
          "metadata": {
            "tags": []
          },
          "execution_count": 75
        }
      ]
    },
    {
      "cell_type": "code",
      "metadata": {
        "colab": {
          "base_uri": "https://localhost:8080/",
          "height": 204
        },
        "id": "s2r5mS8RvxH7",
        "outputId": "3f859a09-79d9-4499-df43-161837b55b62"
      },
      "source": [
        "df_Test.head()"
      ],
      "execution_count": 76,
      "outputs": [
        {
          "output_type": "execute_result",
          "data": {
            "text/html": [
              "<div>\n",
              "<style scoped>\n",
              "    .dataframe tbody tr th:only-of-type {\n",
              "        vertical-align: middle;\n",
              "    }\n",
              "\n",
              "    .dataframe tbody tr th {\n",
              "        vertical-align: top;\n",
              "    }\n",
              "\n",
              "    .dataframe thead th {\n",
              "        text-align: right;\n",
              "    }\n",
              "</style>\n",
              "<table border=\"1\" class=\"dataframe\">\n",
              "  <thead>\n",
              "    <tr style=\"text-align: right;\">\n",
              "      <th></th>\n",
              "      <th>date</th>\n",
              "      <th>meantemp</th>\n",
              "      <th>humidity</th>\n",
              "      <th>wind_speed</th>\n",
              "      <th>meanpressure</th>\n",
              "    </tr>\n",
              "  </thead>\n",
              "  <tbody>\n",
              "    <tr>\n",
              "      <th>0</th>\n",
              "      <td>2017-01-01</td>\n",
              "      <td>15.913043</td>\n",
              "      <td>85.869565</td>\n",
              "      <td>2.743478</td>\n",
              "      <td>59.000000</td>\n",
              "    </tr>\n",
              "    <tr>\n",
              "      <th>1</th>\n",
              "      <td>2017-01-02</td>\n",
              "      <td>18.500000</td>\n",
              "      <td>77.222222</td>\n",
              "      <td>2.894444</td>\n",
              "      <td>1018.277778</td>\n",
              "    </tr>\n",
              "    <tr>\n",
              "      <th>2</th>\n",
              "      <td>2017-01-03</td>\n",
              "      <td>17.111111</td>\n",
              "      <td>81.888889</td>\n",
              "      <td>4.016667</td>\n",
              "      <td>1018.333333</td>\n",
              "    </tr>\n",
              "    <tr>\n",
              "      <th>3</th>\n",
              "      <td>2017-01-04</td>\n",
              "      <td>18.700000</td>\n",
              "      <td>70.050000</td>\n",
              "      <td>4.545000</td>\n",
              "      <td>1015.700000</td>\n",
              "    </tr>\n",
              "    <tr>\n",
              "      <th>4</th>\n",
              "      <td>2017-01-05</td>\n",
              "      <td>18.388889</td>\n",
              "      <td>74.944444</td>\n",
              "      <td>3.300000</td>\n",
              "      <td>1014.333333</td>\n",
              "    </tr>\n",
              "  </tbody>\n",
              "</table>\n",
              "</div>"
            ],
            "text/plain": [
              "         date   meantemp   humidity  wind_speed  meanpressure\n",
              "0  2017-01-01  15.913043  85.869565    2.743478     59.000000\n",
              "1  2017-01-02  18.500000  77.222222    2.894444   1018.277778\n",
              "2  2017-01-03  17.111111  81.888889    4.016667   1018.333333\n",
              "3  2017-01-04  18.700000  70.050000    4.545000   1015.700000\n",
              "4  2017-01-05  18.388889  74.944444    3.300000   1014.333333"
            ]
          },
          "metadata": {
            "tags": []
          },
          "execution_count": 76
        }
      ]
    },
    {
      "cell_type": "code",
      "metadata": {
        "colab": {
          "base_uri": "https://localhost:8080/"
        },
        "id": "OIPUc1H2wPy1",
        "outputId": "d1c88f1b-d11b-4157-8112-48ed2db87d86"
      },
      "source": [
        "df_Train.isnull().sum()"
      ],
      "execution_count": 77,
      "outputs": [
        {
          "output_type": "execute_result",
          "data": {
            "text/plain": [
              "date            0\n",
              "meantemp        0\n",
              "humidity        0\n",
              "wind_speed      0\n",
              "meanpressure    0\n",
              "dtype: int64"
            ]
          },
          "metadata": {
            "tags": []
          },
          "execution_count": 77
        }
      ]
    },
    {
      "cell_type": "code",
      "metadata": {
        "colab": {
          "base_uri": "https://localhost:8080/"
        },
        "id": "DjBZlW7OwRuS",
        "outputId": "5acb365c-0468-4b6d-fe0f-ef56483dfdd1"
      },
      "source": [
        "df_Test.isnull().sum()"
      ],
      "execution_count": 78,
      "outputs": [
        {
          "output_type": "execute_result",
          "data": {
            "text/plain": [
              "date            0\n",
              "meantemp        0\n",
              "humidity        0\n",
              "wind_speed      0\n",
              "meanpressure    0\n",
              "dtype: int64"
            ]
          },
          "metadata": {
            "tags": []
          },
          "execution_count": 78
        }
      ]
    },
    {
      "cell_type": "code",
      "metadata": {
        "colab": {
          "base_uri": "https://localhost:8080/",
          "height": 341
        },
        "id": "RbugwDTfwTMs",
        "outputId": "691c4422-0538-4280-8a7b-f91908f25dbb"
      },
      "source": [
        "date = df_Train['date'].values\n",
        "wind_speed  = df_Train['wind_speed'].values\n",
        " \n",
        " \n",
        "plt.figure(figsize=(15,5))\n",
        "plt.plot(date, wind_speed)\n",
        "plt.title('Temperature average',\n",
        "          fontsize=20);"
      ],
      "execution_count": 79,
      "outputs": [
        {
          "output_type": "display_data",
          "data": {
            "image/png": "[encoded data removed]",
            "text/plain": [
              "<Figure size 1080x360 with 1 Axes>"
            ]
          },
          "metadata": {
            "tags": [],
            "needs_background": "light"
          }
        }
      ]
    },
    {
      "cell_type": "code",
      "metadata": {
        "colab": {
          "base_uri": "https://localhost:8080/"
        },
        "id": "A4mCLhmsxY6N",
        "outputId": "85c6aa3f-86fb-4082-b28b-e90cc970f3af"
      },
      "source": [
        "from sklearn.model_selection import train_test_split\n",
        "\n",
        "x_train, x_test , y_train, y_test  = train_test_split(wind_speed, date, test_size=0.2)\n",
        "print(\"Jumlah Dataset Train: \", len(x_train))\n",
        "print(\"Jumlah Dataset Test: \", len(x_test))"
      ],
      "execution_count": 80,
      "outputs": [
        {
          "output_type": "stream",
          "text": [
            "Jumlah Dataset Train:  1169\n",
            "Jumlah Dataset Test:  293\n"
          ],
          "name": "stdout"
        }
      ]
    },
    {
      "cell_type": "code",
      "metadata": {
        "id": "h2Q6EH2kwgrA"
      },
      "source": [
        "def windowed_dataset(series, window_size, batch_size, shuffle_buffer):\n",
        "    series = tf.expand_dims(series, axis=-1)\n",
        "    ds = tf.data.Dataset.from_tensor_slices(series)\n",
        "    ds = ds.window(window_size + 1, shift=1, drop_remainder=True)\n",
        "    ds = ds.flat_map(lambda w: w.batch(window_size + 1))\n",
        "    ds = ds.shuffle(shuffle_buffer)\n",
        "    ds = ds.map(lambda w: (w[:-1], w[-1:]))\n",
        "    return ds.batch(batch_size).prefetch(1)"
      ],
      "execution_count": 81,
      "outputs": []
    },
    {
      "cell_type": "code",
      "metadata": {
        "id": "3DospWYtwxRn"
      },
      "source": [
        "train_set = windowed_dataset(x_train, window_size=64, batch_size=200, shuffle_buffer=1000)\n",
        "val_set = windowed_dataset(x_test, window_size=64, batch_size=200, shuffle_buffer=1000)\n",
        "model = tf.keras.models.Sequential([\n",
        "    Bidirectional(LSTM(60, return_sequences=True)),\n",
        "    Bidirectional(LSTM(60)),\n",
        "    Dense(30, activation=\"relu\"),\n",
        "    Dense(10, activation=\"relu\"),\n",
        "    Dense(1),\n",
        "])"
      ],
      "execution_count": 82,
      "outputs": []
    },
    {
      "cell_type": "code",
      "metadata": {
        "colab": {
          "base_uri": "https://localhost:8080/"
        },
        "id": "tNMJofL91vLL",
        "outputId": "7544d4f5-9976-4e6f-adbd-f3772bc49828"
      },
      "source": [
        "Mae = (df['wind_speed'].max() - df['wind_speed'].min()) * 10/100\n",
        "print(Mae)"
      ],
      "execution_count": 83,
      "outputs": [
        {
          "output_type": "stream",
          "text": [
            "1.7926785714285713\n"
          ],
          "name": "stdout"
        }
      ]
    },
    {
      "cell_type": "code",
      "metadata": {
        "id": "W1bCGExy2Yj0"
      },
      "source": [
        "class myCallback(tf.keras.callbacks.Callback):\n",
        "  def on_epoch_end(self, epoch, logs={}):\n",
        "    if(logs.get('mae')<1.79 and logs.get('val_mae')<1.79):\n",
        "      print(\"\\nMAE dari model < 10% skala data\")\n",
        "      self.model.stop_training = True\n",
        "callbacks = myCallback()"
      ],
      "execution_count": 84,
      "outputs": []
    },
    {
      "cell_type": "code",
      "metadata": {
        "colab": {
          "base_uri": "https://localhost:8080/"
        },
        "id": "g22HkWnH2Y1p",
        "outputId": "40d32049-e996-4d3b-acaa-f34532fc3a07"
      },
      "source": [
        "optimizer = tf.keras.optimizers.SGD(lr=1.0000e-04, momentum=0.9)\n",
        "\n",
        "model.compile(loss=tf.keras.losses.Huber(),\n",
        "              optimizer=optimizer,\n",
        "              metrics=[\"mae\"])\n",
        "\n",
        "history = model.fit(train_set, epochs=100, validation_data = val_set, callbacks=[callbacks])"
      ],
      "execution_count": 85,
      "outputs": [
        {
          "output_type": "stream",
          "text": [
            "Epoch 1/100\n"
          ],
          "name": "stdout"
        },
        {
          "output_type": "stream",
          "text": [
            "/usr/local/lib/python3.7/dist-packages/tensorflow/python/keras/optimizer_v2/optimizer_v2.py:375: UserWarning: The `lr` argument is deprecated, use `learning_rate` instead.\n",
            "  \"The `lr` argument is deprecated, use `learning_rate` instead.\")\n"
          ],
          "name": "stderr"
        },
        {
          "output_type": "stream",
          "text": [
            "6/6 [==============================] - 12s 841ms/step - loss: 6.5022 - mae: 6.9943 - val_loss: 6.1162 - val_mae: 6.6122\n",
            "Epoch 2/100\n",
            "6/6 [==============================] - 3s 433ms/step - loss: 6.4696 - mae: 6.9609 - val_loss: 6.0738 - val_mae: 6.5693\n",
            "Epoch 3/100\n",
            "6/6 [==============================] - 3s 436ms/step - loss: 6.4282 - mae: 6.9186 - val_loss: 6.0374 - val_mae: 6.5323\n",
            "Epoch 4/100\n",
            "6/6 [==============================] - 3s 429ms/step - loss: 6.3952 - mae: 6.8845 - val_loss: 6.0090 - val_mae: 6.5034\n",
            "Epoch 5/100\n",
            "6/6 [==============================] - 3s 428ms/step - loss: 6.3706 - mae: 6.8594 - val_loss: 5.9920 - val_mae: 6.4864\n",
            "Epoch 6/100\n",
            "6/6 [==============================] - 3s 428ms/step - loss: 6.3565 - mae: 6.8453 - val_loss: 5.9832 - val_mae: 6.4776\n",
            "Epoch 7/100\n",
            "6/6 [==============================] - 3s 424ms/step - loss: 6.3470 - mae: 6.8358 - val_loss: 5.9734 - val_mae: 6.4678\n",
            "Epoch 8/100\n",
            "6/6 [==============================] - 3s 425ms/step - loss: 6.3364 - mae: 6.8253 - val_loss: 5.9610 - val_mae: 6.4555\n",
            "Epoch 9/100\n",
            "6/6 [==============================] - 3s 429ms/step - loss: 6.3241 - mae: 6.8130 - val_loss: 5.9465 - val_mae: 6.4409\n",
            "Epoch 10/100\n",
            "6/6 [==============================] - 3s 431ms/step - loss: 6.3106 - mae: 6.7996 - val_loss: 5.9314 - val_mae: 6.4259\n",
            "Epoch 11/100\n",
            "6/6 [==============================] - 3s 436ms/step - loss: 6.2970 - mae: 6.7860 - val_loss: 5.9172 - val_mae: 6.4117\n",
            "Epoch 12/100\n",
            "6/6 [==============================] - 3s 424ms/step - loss: 6.2840 - mae: 6.7730 - val_loss: 5.9037 - val_mae: 6.3982\n",
            "Epoch 13/100\n",
            "6/6 [==============================] - 3s 428ms/step - loss: 6.2713 - mae: 6.7604 - val_loss: 5.8907 - val_mae: 6.3851\n",
            "Epoch 14/100\n",
            "6/6 [==============================] - 3s 436ms/step - loss: 6.2591 - mae: 6.7482 - val_loss: 5.8784 - val_mae: 6.3729\n",
            "Epoch 15/100\n",
            "6/6 [==============================] - 3s 424ms/step - loss: 6.2475 - mae: 6.7366 - val_loss: 5.8668 - val_mae: 6.3612\n",
            "Epoch 16/100\n",
            "6/6 [==============================] - 3s 427ms/step - loss: 6.2361 - mae: 6.7252 - val_loss: 5.8553 - val_mae: 6.3497\n",
            "Epoch 17/100\n",
            "6/6 [==============================] - 3s 424ms/step - loss: 6.2248 - mae: 6.7138 - val_loss: 5.8439 - val_mae: 6.3382\n",
            "Epoch 18/100\n",
            "6/6 [==============================] - 3s 433ms/step - loss: 6.2134 - mae: 6.7024 - val_loss: 5.8324 - val_mae: 6.3267\n",
            "Epoch 19/100\n",
            "6/6 [==============================] - 3s 429ms/step - loss: 6.2020 - mae: 6.6909 - val_loss: 5.8208 - val_mae: 6.3151\n",
            "Epoch 20/100\n",
            "6/6 [==============================] - 3s 437ms/step - loss: 6.1905 - mae: 6.6794 - val_loss: 5.8092 - val_mae: 6.3034\n",
            "Epoch 21/100\n",
            "6/6 [==============================] - 3s 436ms/step - loss: 6.1790 - mae: 6.6678 - val_loss: 5.7975 - val_mae: 6.2916\n",
            "Epoch 22/100\n",
            "6/6 [==============================] - 3s 433ms/step - loss: 6.1674 - mae: 6.6561 - val_loss: 5.7855 - val_mae: 6.2796\n",
            "Epoch 23/100\n",
            "6/6 [==============================] - 3s 434ms/step - loss: 6.1556 - mae: 6.6442 - val_loss: 5.7734 - val_mae: 6.2674\n",
            "Epoch 24/100\n",
            "6/6 [==============================] - 3s 439ms/step - loss: 6.1434 - mae: 6.6319 - val_loss: 5.7607 - val_mae: 6.2547\n",
            "Epoch 25/100\n",
            "6/6 [==============================] - 3s 430ms/step - loss: 6.1304 - mae: 6.6188 - val_loss: 5.7465 - val_mae: 6.2404\n",
            "Epoch 26/100\n",
            "6/6 [==============================] - 3s 430ms/step - loss: 6.1149 - mae: 6.6031 - val_loss: 5.7274 - val_mae: 6.2212\n",
            "Epoch 27/100\n",
            "6/6 [==============================] - 3s 439ms/step - loss: 6.0939 - mae: 6.5817 - val_loss: 5.7025 - val_mae: 6.1961\n",
            "Epoch 28/100\n",
            "6/6 [==============================] - 3s 435ms/step - loss: 6.0679 - mae: 6.5555 - val_loss: 5.6743 - val_mae: 6.1675\n",
            "Epoch 29/100\n",
            "6/6 [==============================] - 3s 440ms/step - loss: 6.0394 - mae: 6.5264 - val_loss: 5.6447 - val_mae: 6.1376\n",
            "Epoch 30/100\n",
            "6/6 [==============================] - 3s 436ms/step - loss: 6.0114 - mae: 6.4979 - val_loss: 5.6170 - val_mae: 6.1096\n",
            "Epoch 31/100\n",
            "6/6 [==============================] - 3s 431ms/step - loss: 5.9849 - mae: 6.4707 - val_loss: 5.5901 - val_mae: 6.0822\n",
            "Epoch 32/100\n",
            "6/6 [==============================] - 3s 443ms/step - loss: 5.9585 - mae: 6.4436 - val_loss: 5.5633 - val_mae: 6.0550\n",
            "Epoch 33/100\n",
            "6/6 [==============================] - 3s 436ms/step - loss: 5.9321 - mae: 6.4166 - val_loss: 5.5360 - val_mae: 6.0275\n",
            "Epoch 34/100\n",
            "6/6 [==============================] - 3s 429ms/step - loss: 5.9053 - mae: 6.3895 - val_loss: 5.5079 - val_mae: 5.9994\n",
            "Epoch 35/100\n",
            "6/6 [==============================] - 3s 428ms/step - loss: 5.8778 - mae: 6.3614 - val_loss: 5.4792 - val_mae: 5.9706\n",
            "Epoch 36/100\n",
            "6/6 [==============================] - 3s 439ms/step - loss: 5.8498 - mae: 6.3331 - val_loss: 5.4496 - val_mae: 5.9409\n",
            "Epoch 37/100\n",
            "6/6 [==============================] - 3s 432ms/step - loss: 5.8213 - mae: 6.3042 - val_loss: 5.4195 - val_mae: 5.9105\n",
            "Epoch 38/100\n",
            "6/6 [==============================] - 3s 424ms/step - loss: 5.7922 - mae: 6.2744 - val_loss: 5.3889 - val_mae: 5.8796\n",
            "Epoch 39/100\n",
            "6/6 [==============================] - 3s 431ms/step - loss: 5.7628 - mae: 6.2445 - val_loss: 5.3577 - val_mae: 5.8480\n",
            "Epoch 40/100\n",
            "6/6 [==============================] - 3s 432ms/step - loss: 5.7327 - mae: 6.2137 - val_loss: 5.3259 - val_mae: 5.8158\n",
            "Epoch 41/100\n",
            "6/6 [==============================] - 3s 433ms/step - loss: 5.7022 - mae: 6.1827 - val_loss: 5.2937 - val_mae: 5.7830\n",
            "Epoch 42/100\n",
            "6/6 [==============================] - 3s 442ms/step - loss: 5.6711 - mae: 6.1511 - val_loss: 5.2608 - val_mae: 5.7494\n",
            "Epoch 43/100\n",
            "6/6 [==============================] - 3s 444ms/step - loss: 5.6397 - mae: 6.1191 - val_loss: 5.2271 - val_mae: 5.7149\n",
            "Epoch 44/100\n",
            "6/6 [==============================] - 3s 432ms/step - loss: 5.6073 - mae: 6.0859 - val_loss: 5.1929 - val_mae: 5.6798\n",
            "Epoch 45/100\n",
            "6/6 [==============================] - 3s 442ms/step - loss: 5.5745 - mae: 6.0523 - val_loss: 5.1577 - val_mae: 5.6436\n",
            "Epoch 46/100\n",
            "6/6 [==============================] - 3s 437ms/step - loss: 5.5408 - mae: 6.0177 - val_loss: 5.1217 - val_mae: 5.6065\n",
            "Epoch 47/100\n",
            "6/6 [==============================] - 3s 443ms/step - loss: 5.5063 - mae: 5.9826 - val_loss: 5.0847 - val_mae: 5.5686\n",
            "Epoch 48/100\n",
            "6/6 [==============================] - 3s 440ms/step - loss: 5.4708 - mae: 5.9468 - val_loss: 5.0464 - val_mae: 5.5301\n",
            "Epoch 49/100\n",
            "6/6 [==============================] - 3s 439ms/step - loss: 5.4340 - mae: 5.9099 - val_loss: 5.0069 - val_mae: 5.4902\n",
            "Epoch 50/100\n",
            "6/6 [==============================] - 3s 451ms/step - loss: 5.3962 - mae: 5.8715 - val_loss: 4.9658 - val_mae: 5.4486\n",
            "Epoch 51/100\n",
            "6/6 [==============================] - 3s 435ms/step - loss: 5.3568 - mae: 5.8316 - val_loss: 4.9234 - val_mae: 5.4053\n",
            "Epoch 52/100\n",
            "6/6 [==============================] - 3s 437ms/step - loss: 5.3167 - mae: 5.7910 - val_loss: 4.8791 - val_mae: 5.3603\n",
            "Epoch 53/100\n",
            "6/6 [==============================] - 3s 431ms/step - loss: 5.2745 - mae: 5.7490 - val_loss: 4.8333 - val_mae: 5.3139\n",
            "Epoch 54/100\n",
            "6/6 [==============================] - 3s 433ms/step - loss: 5.2309 - mae: 5.7057 - val_loss: 4.7858 - val_mae: 5.2655\n",
            "Epoch 55/100\n",
            "6/6 [==============================] - 3s 439ms/step - loss: 5.1860 - mae: 5.6612 - val_loss: 4.7363 - val_mae: 5.2148\n",
            "Epoch 56/100\n",
            "6/6 [==============================] - 3s 431ms/step - loss: 5.1391 - mae: 5.6144 - val_loss: 4.6850 - val_mae: 5.1623\n",
            "Epoch 57/100\n",
            "6/6 [==============================] - 3s 437ms/step - loss: 5.0908 - mae: 5.5662 - val_loss: 4.6319 - val_mae: 5.1092\n",
            "Epoch 58/100\n",
            "6/6 [==============================] - 3s 443ms/step - loss: 5.0407 - mae: 5.5163 - val_loss: 4.5769 - val_mae: 5.0541\n",
            "Epoch 59/100\n",
            "6/6 [==============================] - 3s 449ms/step - loss: 4.9889 - mae: 5.4644 - val_loss: 4.5198 - val_mae: 4.9967\n",
            "Epoch 60/100\n",
            "6/6 [==============================] - 3s 430ms/step - loss: 4.9359 - mae: 5.4110 - val_loss: 4.4606 - val_mae: 4.9368\n",
            "Epoch 61/100\n",
            "6/6 [==============================] - 3s 439ms/step - loss: 4.8806 - mae: 5.3556 - val_loss: 4.3999 - val_mae: 4.8756\n",
            "Epoch 62/100\n",
            "6/6 [==============================] - 3s 436ms/step - loss: 4.8236 - mae: 5.2984 - val_loss: 4.3369 - val_mae: 4.8115\n",
            "Epoch 63/100\n",
            "6/6 [==============================] - 3s 439ms/step - loss: 4.7661 - mae: 5.2406 - val_loss: 4.2715 - val_mae: 4.7463\n",
            "Epoch 64/100\n",
            "6/6 [==============================] - 3s 440ms/step - loss: 4.7051 - mae: 5.1797 - val_loss: 4.2053 - val_mae: 4.6811\n",
            "Epoch 65/100\n",
            "6/6 [==============================] - 3s 449ms/step - loss: 4.6440 - mae: 5.1192 - val_loss: 4.1367 - val_mae: 4.6128\n",
            "Epoch 66/100\n",
            "6/6 [==============================] - 3s 440ms/step - loss: 4.5812 - mae: 5.0565 - val_loss: 4.0663 - val_mae: 4.5423\n",
            "Epoch 67/100\n",
            "6/6 [==============================] - 3s 437ms/step - loss: 4.5173 - mae: 4.9924 - val_loss: 3.9939 - val_mae: 4.4702\n",
            "Epoch 68/100\n",
            "6/6 [==============================] - 3s 446ms/step - loss: 4.4510 - mae: 4.9258 - val_loss: 3.9207 - val_mae: 4.3967\n",
            "Epoch 69/100\n",
            "6/6 [==============================] - 3s 426ms/step - loss: 4.3851 - mae: 4.8594 - val_loss: 3.8461 - val_mae: 4.3202\n",
            "Epoch 70/100\n",
            "6/6 [==============================] - 3s 444ms/step - loss: 4.3182 - mae: 4.7916 - val_loss: 3.7702 - val_mae: 4.2417\n",
            "Epoch 71/100\n",
            "6/6 [==============================] - 3s 439ms/step - loss: 4.2486 - mae: 4.7211 - val_loss: 3.6945 - val_mae: 4.1677\n",
            "Epoch 72/100\n",
            "6/6 [==============================] - 3s 448ms/step - loss: 4.1809 - mae: 4.6527 - val_loss: 3.6177 - val_mae: 4.0918\n",
            "Epoch 73/100\n",
            "6/6 [==============================] - 3s 440ms/step - loss: 4.1125 - mae: 4.5836 - val_loss: 3.5403 - val_mae: 4.0143\n",
            "Epoch 74/100\n",
            "6/6 [==============================] - 3s 438ms/step - loss: 4.0423 - mae: 4.5137 - val_loss: 3.4630 - val_mae: 3.9357\n",
            "Epoch 75/100\n",
            "6/6 [==============================] - 3s 445ms/step - loss: 3.9729 - mae: 4.4450 - val_loss: 3.3851 - val_mae: 3.8553\n",
            "Epoch 76/100\n",
            "6/6 [==============================] - 3s 446ms/step - loss: 3.9045 - mae: 4.3771 - val_loss: 3.3058 - val_mae: 3.7740\n",
            "Epoch 77/100\n",
            "6/6 [==============================] - 3s 441ms/step - loss: 3.8353 - mae: 4.3084 - val_loss: 3.2272 - val_mae: 3.6957\n",
            "Epoch 78/100\n",
            "6/6 [==============================] - 3s 442ms/step - loss: 3.7654 - mae: 4.2387 - val_loss: 3.1513 - val_mae: 3.6195\n",
            "Epoch 79/100\n",
            "6/6 [==============================] - 3s 456ms/step - loss: 3.6976 - mae: 4.1723 - val_loss: 3.0780 - val_mae: 3.5447\n",
            "Epoch 80/100\n",
            "6/6 [==============================] - 3s 457ms/step - loss: 3.6335 - mae: 4.1079 - val_loss: 3.0072 - val_mae: 3.4729\n",
            "Epoch 81/100\n",
            "6/6 [==============================] - 3s 437ms/step - loss: 3.5728 - mae: 4.0461 - val_loss: 2.9400 - val_mae: 3.4044\n",
            "Epoch 82/100\n",
            "6/6 [==============================] - 3s 440ms/step - loss: 3.5128 - mae: 3.9848 - val_loss: 2.8782 - val_mae: 3.3400\n",
            "Epoch 83/100\n",
            "6/6 [==============================] - 3s 439ms/step - loss: 3.4597 - mae: 3.9303 - val_loss: 2.8188 - val_mae: 3.2817\n",
            "Epoch 84/100\n",
            "6/6 [==============================] - 3s 442ms/step - loss: 3.4068 - mae: 3.8757 - val_loss: 2.7651 - val_mae: 3.2298\n",
            "Epoch 85/100\n",
            "6/6 [==============================] - 3s 449ms/step - loss: 3.3590 - mae: 3.8270 - val_loss: 2.7164 - val_mae: 3.1806\n",
            "Epoch 86/100\n",
            "6/6 [==============================] - 3s 444ms/step - loss: 3.3163 - mae: 3.7851 - val_loss: 2.6719 - val_mae: 3.1339\n",
            "Epoch 87/100\n",
            "6/6 [==============================] - 3s 436ms/step - loss: 3.2752 - mae: 3.7450 - val_loss: 2.6329 - val_mae: 3.0961\n",
            "Epoch 88/100\n",
            "6/6 [==============================] - 3s 439ms/step - loss: 3.2401 - mae: 3.7112 - val_loss: 2.5982 - val_mae: 3.0615\n",
            "Epoch 89/100\n",
            "6/6 [==============================] - 3s 431ms/step - loss: 3.2071 - mae: 3.6778 - val_loss: 2.5696 - val_mae: 3.0306\n",
            "Epoch 90/100\n",
            "6/6 [==============================] - 3s 438ms/step - loss: 3.1797 - mae: 3.6506 - val_loss: 2.5458 - val_mae: 3.0035\n",
            "Epoch 91/100\n",
            "6/6 [==============================] - 3s 442ms/step - loss: 3.1563 - mae: 3.6271 - val_loss: 2.5260 - val_mae: 2.9797\n",
            "Epoch 92/100\n",
            "6/6 [==============================] - 3s 437ms/step - loss: 3.1344 - mae: 3.6048 - val_loss: 2.5105 - val_mae: 2.9617\n",
            "Epoch 93/100\n",
            "6/6 [==============================] - 3s 440ms/step - loss: 3.1167 - mae: 3.5863 - val_loss: 2.4981 - val_mae: 2.9482\n",
            "Epoch 94/100\n",
            "6/6 [==============================] - 3s 443ms/step - loss: 3.1021 - mae: 3.5715 - val_loss: 2.4884 - val_mae: 2.9375\n",
            "Epoch 95/100\n",
            "6/6 [==============================] - 3s 435ms/step - loss: 3.0896 - mae: 3.5582 - val_loss: 2.4812 - val_mae: 2.9304\n",
            "Epoch 96/100\n",
            "6/6 [==============================] - 3s 454ms/step - loss: 3.0787 - mae: 3.5473 - val_loss: 2.4759 - val_mae: 2.9264\n",
            "Epoch 97/100\n",
            "6/6 [==============================] - 3s 437ms/step - loss: 3.0696 - mae: 3.5381 - val_loss: 2.4721 - val_mae: 2.9247\n",
            "Epoch 98/100\n",
            "6/6 [==============================] - 3s 436ms/step - loss: 3.0629 - mae: 3.5315 - val_loss: 2.4695 - val_mae: 2.9240\n",
            "Epoch 99/100\n",
            "6/6 [==============================] - 3s 437ms/step - loss: 3.0564 - mae: 3.5250 - val_loss: 2.4683 - val_mae: 2.9243\n",
            "Epoch 100/100\n",
            "6/6 [==============================] - 3s 434ms/step - loss: 3.0519 - mae: 3.5204 - val_loss: 2.4680 - val_mae: 2.9257\n"
          ],
          "name": "stdout"
        }
      ]
    },
    {
      "cell_type": "code",
      "metadata": {
        "colab": {
          "base_uri": "https://localhost:8080/",
          "height": 573
        },
        "id": "JtUZS1pI2cQD",
        "outputId": "368be4d9-c6bb-4e57-9839-3f1809b5d4cb"
      },
      "source": [
        "# Plot Accuracy\n",
        "plt.plot(history.history['mae'])\n",
        "plt.plot(history.history['val_mae'])\n",
        "plt.title('Akurasi Model')\n",
        "plt.ylabel('Mae')\n",
        "plt.xlabel('epoch')\n",
        "plt.legend(['Train', 'Val'], loc='upper left')\n",
        "plt.show()\n",
        "\n",
        "# Plot Loss\n",
        "plt.plot(history.history['loss'])\n",
        "plt.plot(history.history['val_loss'])\n",
        "plt.title('Loss Model')\n",
        "plt.ylabel('loss')\n",
        "plt.xlabel('epoch')\n",
        "plt.legend(['Train', 'Val'], loc='upper left')\n",
        "plt.show()"
      ],
      "execution_count": 86,
      "outputs": [
        {
          "output_type": "display_data",
          "data": {
            "image/png": "[encoded data removed]",
            "text/plain": [
              "<Figure size 432x288 with 1 Axes>"
            ]
          },
          "metadata": {
            "tags": [],
            "needs_background": "light"
          }
        },
        {
          "output_type": "display_data",
          "data": {
            "image/png": "[encoded data removed]",
            "text/plain": [
              "<Figure size 432x288 with 1 Axes>"
            ]
          },
          "metadata": {
            "tags": [],
            "needs_background": "light"
          }
        }
      ]
    }
  ]
}